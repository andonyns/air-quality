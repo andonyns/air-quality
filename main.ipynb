{
 "cells": [
  {
   "cell_type": "markdown",
   "metadata": {
    "colab_type": "text",
    "id": "view-in-github"
   },
   "source": [
    "<a href=\"https://colab.research.google.com/github/andonyns/air-quality/blob/main/main.ipynb\" target=\"_parent\"><img src=\"https://colab.research.google.com/assets/colab-badge.svg\" alt=\"Open In Colab\"/></a>\n",
    "\n",
    "# Laboratorio 01\n",
    "\n",
    "## Grupo 04\n",
    "- Jorge Ignacio Chavarría Herrera - B82073\n",
    "- Antonio Badilla-Olivas - B80874\n",
    "- Enrique Guillermo Vílchez Lizano - C18477\n",
    "- Andony Nuñez Solano - B04539\n",
    "\n",
    "## Objetivos\n",
    "\n",
    "1. Selección y recolección de parámetros y ciudades.\n",
    "2. Limpiar y transformar los datos para comparaciones.\n",
    "3. Análisis univariable y multivariable. Analizar las tendencias de los indicadores y hacer comparaciones. Incluir posibles correlaciones entre variables.\n",
    "4. Conclusiones y recomendaciones según las políticas ambientales de cada país."
   ]
  },
  {
   "cell_type": "markdown",
   "metadata": {},
   "source": [
    "# 1. Conceptos relevantes\n",
    "Estas son las variables que [OpenAQ](https://openaq.org/) ofrece para medir la contaminación del aire. Las definiciones fueron tomadas de la [Ley de Aire Limpio](https://www.epa.gov/criteria-air-pollutants/information-pollutant):\n",
    "\n",
    "1. PM (Partículas Materiales): Estas partículas vienen en muchos tamaños y formas y pueden estar compuestas de cientos de químicos diferentes. Algunas se emiten directamente de una fuente, como sitios de construcción, caminos sin pavimentar, campos, chimeneas o incendios. La mayoría de las partículas se forman en la atmósfera como resultado de reacciones complejas de químicos como el dióxido de azufre y los óxidos de nitrógeno, que son contaminantes emitidos por plantas de energía, industrias y automóviles.\n",
    "\n",
    "   - PM₂.₅ (Partículas Materiales de 2.5 micrómetros o más pequeñas):\n",
    "     partículas inhalables finas, con diámetros que generalmente son de 2.5 micrómetros o más pequeños.\n",
    "\n",
    "   - PM₁₀ (Partículas Materiales de 10 micrómetros o más pequeñas):\n",
    "     partículas inhalables, con diámetros que generalmente son de 10 micrómetros o más pequeños.\n",
    "\n",
    "2. O₃ (Ozono):\n",
    "   El ozono troposférico, o a nivel del suelo, no se emite directamente al aire, sino que se crea por reacciones químicas entre los óxidos de nitrógeno (NOx) y los compuestos orgánicos volátiles (COV). Esto sucede cuando los contaminantes emitidos por automóviles, plantas de energía, calderas industriales, refinerías, plantas químicas y otras fuentes reaccionan químicamente en presencia de la luz solar.\n",
    "\n",
    "3. NO₂ (Dióxido de Nitrógeno):\n",
    "   El dióxido de nitrógeno (NO₂) es uno de un grupo de gases altamente reactivos conocidos como óxidos de nitrógeno (NOx). Otros óxidos de nitrógeno incluyen el ácido nitroso y el ácido nítrico. El NO₂ se utiliza como indicador del grupo más grande de óxidos de nitrógeno. El NO₂ llega principalmente al aire por la quema de combustible. El NO₂ se forma a partir de las emisiones de automóviles, camiones y autobuses, plantas de energía y equipos todoterreno.\n",
    "\n",
    "4. SO₂ (Dióxido de Azufre):\n",
    "   El SO₂ es el componente de mayor preocupación y se utiliza como indicador del grupo más grande de óxidos de azufre gaseosos (SOx). Otros SOx gaseosos (como el SO₃) se encuentran en la atmósfera en concentraciones mucho más bajas que el SO₂. La mayor fuente de SO₂ en la atmósfera es la quema de combustibles fósiles por parte de las centrales eléctricas y otras instalaciones industriales. Las fuentes más pequeñas de emisiones de SO₂ incluyen: procesos industriales como la extracción de metal de los minerales; fuentes naturales como los volcanes; y locomotoras, barcos y otros vehículos y equipos pesados que queman combustible con un alto contenido de azufre.\n",
    "\n",
    "5. CO (Monóxido de Carbono):\n",
    "   El CO es un gas incoloro e inodoro que puede ser dañino cuando se inhala en grandes cantidades. El CO se libera cuando se quema algo. Las mayores fuentes de CO en el aire exterior son los automóviles, camiones y otros vehículos o maquinaria que queman combustibles fósiles. Una variedad de artículos en su hogar, como calentadores de ambiente de queroseno y gas sin ventilación, chimeneas y hornos con fugas, y estufas de gas también liberan CO y pueden afectar la calidad del aire en interiores."
   ]
  },
  {
   "cell_type": "markdown",
   "metadata": {},
   "source": [
    "# 2. Preparar el ambiente y las utilidades"
   ]
  },
  {
   "cell_type": "markdown",
   "metadata": {},
   "source": [
    "## 2.a Instalar dependencias en google colab"
   ]
  },
  {
   "cell_type": "code",
   "execution_count": 50,
   "metadata": {},
   "outputs": [
    {
     "name": "stdout",
     "output_type": "stream",
     "text": [
      "/workspaces/air-quality/.venv/bin/python: No module named pip\n",
      "Note: you may need to restart the kernel to use updated packages.\n"
     ]
    }
   ],
   "source": [
    "%pip install -q python-dotenv matplotlib numpy pandas requests seaborn"
   ]
  },
  {
   "cell_type": "markdown",
   "metadata": {},
   "source": [
    "## 2.b ¿Ejecutando localmente? Instala las dependencias con uv.\n",
    "\n",
    "Clona el repositorio [https://github.com/andonyns/air-quality/tree/main](https://github.com/andonyns/air-quality/tree/main) y luego, dentro del directorio, ejecuta el siguiente comando:\n",
    "```bash\n",
    "pip install uv\n",
    "```\n",
    "Luego ejecuta el siguiente comando:\n",
    "```bash\n",
    "uv sync\n",
    "```\n",
    "Después, abre el cuaderno en Visual Studio Code o Jupyter Notebook y selecciona como kernel el entorno virtual creado por uv dentro del directorio actual."
   ]
  },
  {
   "cell_type": "markdown",
   "metadata": {},
   "source": [
    "# 2.c Importar bibliotecas"
   ]
  },
  {
   "cell_type": "code",
   "execution_count": 51,
   "metadata": {},
   "outputs": [],
   "source": [
    "# For API requests\n",
    "import requests\n",
    "from urllib.parse import urljoin\n",
    "\n",
    "# For env\n",
    "import os\n",
    "from dotenv import load_dotenv\n",
    "\n",
    "# For data manipulation\n",
    "from pprint import pprint\n",
    "import pandas as pd\n",
    "import pickle as pkl\n",
    "\n",
    "import time\n",
    "import logging\n",
    "import sys\n",
    "\n",
    "import re\n",
    "\n",
    "# For visualization\n",
    "import matplotlib.pyplot as plt\n",
    "import seaborn as sns"
   ]
  },
  {
   "cell_type": "markdown",
   "metadata": {},
   "source": [
    "## 2.d Funciones de ayuda"
   ]
  },
  {
   "cell_type": "code",
   "execution_count": 52,
   "metadata": {},
   "outputs": [],
   "source": [
    "def set_color(text: str, color: str = \"green\") -> str:\n",
    "    \"\"\"Set the color of the text using ANSI escape codes.\n",
    "\n",
    "    Parameters\n",
    "    ----------\n",
    "    text : str\n",
    "        The text to be colored.\n",
    "    color : str, optional\n",
    "        The color to apply to the text. Available options are:\n",
    "        'green', 'yellow', 'red', 'blue', and 'orange'.\n",
    "        Default is 'green'.\n",
    "\n",
    "    Returns\n",
    "    -------\n",
    "    str\n",
    "        The text with the specified ANSI color codes applied.\n",
    "    \"\"\"\n",
    "    colors: Dict[str, str] = {\n",
    "        \"green\": \"\\033[32m\",\n",
    "        \"yellow\": \"\\033[33m\",\n",
    "        \"red\": \"\\033[31m\",\n",
    "        \"blue\": \"\\033[34m\",\n",
    "        \"orange\": \"\\033[38;5;214m\",\n",
    "        \"reset\": \"\\033[0m\",\n",
    "    }\n",
    "    return f\"{colors[color]}{text}{colors['reset']}\"\n",
    "\n",
    "\n",
    "class StdOutLogger(logging.Logger):\n",
    "    \"\"\"A custom logger that outputs to stdout with colored messages.\"\"\"\n",
    "\n",
    "    def __init__(self) -> None:\n",
    "        \"\"\"Initialize the StdOutLogger.\"\"\"\n",
    "        super().__init__(__name__)\n",
    "        self.logger = logging.getLogger(__name__)\n",
    "        # Configure basic logging to stdout\n",
    "        logging.basicConfig(\n",
    "            level=logging.INFO,\n",
    "            format=\"%(asctime)s - %(name)s - %(levelname)s - %(message)s\",\n",
    "            datefmt=\"%Y-%m-%d %H:%M:%S\",\n",
    "            stream=sys.stdout,\n",
    "        )\n",
    "\n",
    "    def info(self, message: str) -> None:\n",
    "        \"\"\"Log an info-level message in blue.\n",
    "\n",
    "        Parameters\n",
    "        ----------\n",
    "        message : str\n",
    "            The message to log.\n",
    "        \"\"\"\n",
    "        self.logger.info(set_color(message, \"blue\"))\n",
    "\n",
    "    def success(self, message: str) -> None:\n",
    "        \"\"\"Log an info-level success message in green.\n",
    "\n",
    "        Parameters\n",
    "        ----------\n",
    "        message : str\n",
    "            The success message to log.\n",
    "        \"\"\"\n",
    "        self.logger.info(set_color(message, \"green\"))\n",
    "\n",
    "    def warning(self, message: str) -> None:\n",
    "        \"\"\"Log a warning-level message in orange.\n",
    "\n",
    "        Parameters\n",
    "        ----------\n",
    "        message : str\n",
    "            The warning message to log.\n",
    "        \"\"\"\n",
    "        self.logger.warning(set_color(message, \"orange\"))\n",
    "\n",
    "    def critical(self, message: str) -> None:\n",
    "        \"\"\"Log a critical-level message in red.\n",
    "\n",
    "        Parameters\n",
    "        ----------\n",
    "        message : str\n",
    "            The critical message to log.\n",
    "        \"\"\"\n",
    "        self.logger.critical(set_color(message, \"red\"))"
   ]
  },
  {
   "cell_type": "markdown",
   "metadata": {},
   "source": [
    "Instanciamos un logger y cargamos las variables de ambiente para obtener API_KEY."
   ]
  },
  {
   "cell_type": "code",
   "execution_count": 53,
   "metadata": {},
   "outputs": [
    {
     "data": {
      "text/plain": [
       "True"
      ]
     },
     "execution_count": 53,
     "metadata": {},
     "output_type": "execute_result"
    }
   ],
   "source": [
    "logger = StdOutLogger()\n",
    "load_dotenv()"
   ]
  },
  {
   "cell_type": "markdown",
   "metadata": {},
   "source": [
    "## 2.e Constantes"
   ]
  },
  {
   "cell_type": "code",
   "execution_count": 54,
   "metadata": {},
   "outputs": [],
   "source": [
    "DATA_DIR = \"data\"\n",
    "if not os.path.isdir(DATA_DIR):\n",
    "    os.mkdir(DATA_DIR)\n",
    "\n",
    "BASE_API_URL = \"https://api.openaq.org/v3/\"\n",
    "\n",
    "HEADERS = {\"X-API-Key\": os.getenv(\"API_KEY\")}\n",
    "\n",
    "LOCATIONS_ENDPOINT = urljoin(BASE_API_URL, \"locations/{location_id}\")\n",
    "MEASUREMENTS_ENDPOINT = urljoin(BASE_API_URL, \"sensors/{sensor_id}/measurements/daily\")"
   ]
  },
  {
   "cell_type": "markdown",
   "metadata": {},
   "source": [
    "## 2.f Cliente básico para obtener datos de OpenAQ\n"
   ]
  },
  {
   "cell_type": "code",
   "execution_count": 55,
   "metadata": {},
   "outputs": [],
   "source": [
    "class OpenAQClient:\n",
    "    \"\"\"A static client for interacting with the OpenAQ API.\"\"\"\n",
    "\n",
    "    _base_url: str = BASE_API_URL\n",
    "    _headers: dict = {\"X-API-Key\": os.getenv(\"API_KEY\")}\n",
    "    _logger: logging.Logger = logger\n",
    "\n",
    "    @staticmethod\n",
    "    def set_config(\n",
    "        base_api_url: str = BASE_API_URL,\n",
    "        api_key: str | None = None,\n",
    "        logger: logging.Logger | None = None,\n",
    "    ) -> None:\n",
    "        \"\"\"Configure the OpenAQClient.\n",
    "\n",
    "        This method sets the base URL, API key, and logger for all\n",
    "        subsequent requests.  It's a class method, so it's called on\n",
    "        the class itself (e.g., OpenAQClient.set_config(...)).\n",
    "\n",
    "        Parameters\n",
    "        ----------\n",
    "        base_api_url : str, optional\n",
    "            The base URL for the OpenAQ API.  Default is the module-level\n",
    "            BASE_API_URL.\n",
    "        api_key : str, optional\n",
    "            The API key for OpenAQ. If None, it will try to get it from\n",
    "            the environment variable \"API_KEY\". Default is None.\n",
    "        logger : logging.Logger, optional\n",
    "            The logger to use.  Default is the module-level logger.\n",
    "        \"\"\"\n",
    "        OpenAQClient._base_url = base_api_url\n",
    "        OpenAQClient._headers = {\"X-API-Key\": api_key or os.getenv(\"API_KEY\")}\n",
    "        OpenAQClient._logger = logger or logging.getLogger(__name__)\n",
    "\n",
    "    @staticmethod\n",
    "    def _fetch_data(\n",
    "        endpoint: str,\n",
    "        parameters: dict | None = None,\n",
    "        query_parameters: dict | None = None,\n",
    "        verbose: bool = False,\n",
    "    ) -> requests.Response:\n",
    "        \"\"\"Fetch data from a given API endpoint.\n",
    "\n",
    "        This is a static method, so it's called on the class\n",
    "        (e.g., OpenAQClient._fetch_data(...)).\n",
    "\n",
    "        Parameters\n",
    "        ----------\n",
    "        endpoint : str\n",
    "            The specific endpoint URL (relative to the base URL).\n",
    "        parameters : dict of str to any, optional\n",
    "            Path parameters to format the endpoint URL.\n",
    "        query_parameters : dict of str to any, optional\n",
    "            Query parameters to append to the URL.\n",
    "        verbose : bool, optional\n",
    "            If True, print the response headers.\n",
    "\n",
    "        Returns\n",
    "        -------\n",
    "        requests.Response\n",
    "            The raw requests.Response object.\n",
    "\n",
    "        Raises\n",
    "        ------\n",
    "        Exception\n",
    "            If the HTTP request returns a status code other than 200.\n",
    "        \"\"\"\n",
    "        url = urljoin(OpenAQClient._base_url, endpoint)\n",
    "\n",
    "        if parameters:\n",
    "            url = url.format(**parameters)\n",
    "\n",
    "        if query_parameters:\n",
    "            url += \"?\" + \"&\".join(f\"{k}={v}\" for k, v in query_parameters.items())\n",
    "\n",
    "        response = requests.get(url=url, headers=OpenAQClient._headers)\n",
    "\n",
    "        if response.status_code != 200:\n",
    "            raise Exception(\n",
    "                f\"Request failed with status: {response.status_code}. Reason: {response.text}\"\n",
    "            )\n",
    "\n",
    "        if verbose:\n",
    "            OpenAQClient._logger.info(response.headers)\n",
    "\n",
    "        return response\n",
    "\n",
    "    @staticmethod\n",
    "    def fetch_location_sensors_data(\n",
    "        location_id: int,\n",
    "    ) -> dict:\n",
    "        \"\"\"Fetch sensor data for a specific location.\n",
    "\n",
    "        This is a static method, so it's called on the class.\n",
    "\n",
    "        Parameters\n",
    "        ----------\n",
    "        location_id : int\n",
    "            The ID of the location.\n",
    "\n",
    "        Returns\n",
    "        -------\n",
    "        dict\n",
    "            A dictionary where keys are sensor IDs and values are lists of\n",
    "            measurement data pages.\n",
    "        \"\"\"\n",
    "        OpenAQClient._logger.info(f\"Fetching data for location ID: {location_id}...\")\n",
    "        try:\n",
    "            location_response = OpenAQClient._fetch_data(\n",
    "                endpoint=f\"locations/{location_id}\",\n",
    "            )\n",
    "            location_data = location_response.json()\n",
    "            OpenAQClient._logger.success(\n",
    "                f\"Finished fetching location data for ID: {location_id}\"\n",
    "            )\n",
    "        except Exception as e:\n",
    "            OpenAQClient._logger.critical(\n",
    "                f\"Error fetching location data for ID {location_id}: {e}\"\n",
    "            )\n",
    "            return {}\n",
    "\n",
    "        sensors_data: dict = {}\n",
    "        sensors = location_data[\"results\"][0].get(\"sensors\", [])\n",
    "\n",
    "        for i, sensor in enumerate(sensors):\n",
    "            sensor_id = sensor[\"id\"]\n",
    "            sensors_data[sensor_id] = []\n",
    "            query_params: dict = {\"limit\": 100, \"page\": 1}\n",
    "            OpenAQClient._logger.info(\n",
    "                f\"Processing sensor ID: {sensor_id} (sensor {i + 1}/{len(sensors)})\"\n",
    "            )\n",
    "\n",
    "            while True:\n",
    "                try:\n",
    "                    measurements_response = OpenAQClient._fetch_data(\n",
    "                        endpoint=f\"sensors/{sensor_id}/measurements/daily\",\n",
    "                        query_parameters=query_params,\n",
    "                    )\n",
    "                    measurements_data = measurements_response.json()\n",
    "                    OpenAQClient._logger.info(\n",
    "                        f\"Processing sensor ID {sensor_id}, page {measurements_data['meta']['page']}\"\n",
    "                    )\n",
    "                    OpenAQClient._logger.warning(\n",
    "                        f\"Remaining requests: {measurements_response.headers.get('X-Ratelimit-Remaining', 'N/A')}\"\n",
    "                    )\n",
    "                    sensors_data[sensor_id].append(measurements_data)\n",
    "\n",
    "                    if len(measurements_data[\"results\"]) < 100:\n",
    "                        break\n",
    "\n",
    "                    rate_limit_remaining = measurements_response.headers.get(\n",
    "                        \"X-Ratelimit-Remaining\"\n",
    "                    )\n",
    "                    rate_limit_reset = measurements_response.headers.get(\n",
    "                        \"X-Ratelimit-Reset\"\n",
    "                    )\n",
    "                    if rate_limit_remaining == \"1\" and rate_limit_reset:\n",
    "                        OpenAQClient._logger.warning(\n",
    "                            f\"Reached rate limit for sensor {sensor_id}. Waiting for {rate_limit_reset} seconds.\"\n",
    "                        )\n",
    "                        time.sleep(int(rate_limit_reset))\n",
    "                    query_params[\"page\"] += 1\n",
    "                except Exception as e:\n",
    "                    OpenAQClient._logger.error(\n",
    "                        f\"Error fetching measurements for sensor ID {sensor_id}: {e}\"\n",
    "                    )\n",
    "                    break\n",
    "\n",
    "            OpenAQClient._logger.success(f\"Finished processing sensor ID: {sensor_id}\")\n",
    "\n",
    "        OpenAQClient._logger.success(\n",
    "            f\"Finished processing all sensors for location ID: {location_id}\"\n",
    "        )\n",
    "        return sensors_data"
   ]
  },
  {
   "cell_type": "code",
   "execution_count": 56,
   "metadata": {},
   "outputs": [],
   "source": [
    "OpenAQClient.set_config(\n",
    "    base_api_url=BASE_API_URL,\n",
    "    api_key=os.getenv(\"API_KEY\"),\n",
    "    logger=logger,\n",
    ")"
   ]
  },
  {
   "cell_type": "markdown",
   "metadata": {},
   "source": [
    "### Ejemplo de CR\n",
    "\n",
    "Podemos jalar los datos de una localización llamando a la función y accediendo al endpoint de las localizaciones. De antemano, se buscó el ID de la localización existente en [Explore the data](https://explore.openaq.org/#1.2/20/40). Así se usa esto como parámetro para obtener la información de la localización."
   ]
  },
  {
   "cell_type": "code",
   "execution_count": 57,
   "metadata": {},
   "outputs": [
    {
     "name": "stdout",
     "output_type": "stream",
     "text": [
      "{'meta': {'found': 1,\n",
      "          'limit': 100,\n",
      "          'name': 'openaq-api',\n",
      "          'page': 1,\n",
      "          'website': '/'},\n",
      " 'results': [{'bounds': [-84.0417, 9.938, -84.0417, 9.938],\n",
      "              'coordinates': {'latitude': 9.938, 'longitude': -84.0417},\n",
      "              'country': {'code': 'CR', 'id': 29, 'name': 'Costa Rica'},\n",
      "              'datetimeFirst': {'local': '2024-09-19T14:01:34-06:00',\n",
      "                                'utc': '2024-09-19T20:01:34Z'},\n",
      "              'datetimeLast': {'local': '2025-04-23T21:59:53-06:00',\n",
      "                               'utc': '2025-04-24T03:59:53Z'},\n",
      "              'distance': None,\n",
      "              'id': 3070644,\n",
      "              'instruments': [{'id': 4, 'name': 'Clarity Sensor'}],\n",
      "              'isMobile': False,\n",
      "              'isMonitor': False,\n",
      "              'licenses': [{'attribution': {'name': 'Clarity', 'url': None},\n",
      "                            'dateFrom': '2021-10-20',\n",
      "                            'dateTo': None,\n",
      "                            'id': 38,\n",
      "                            'name': 'CC0 1.0'}],\n",
      "              'locality': None,\n",
      "              'name': 'NASA GSFC Rutgers Calib. N13',\n",
      "              'owner': {'id': 9, 'name': 'Clarity'},\n",
      "              'provider': {'id': 166, 'name': 'Clarity'},\n",
      "              'sensors': [{'id': 10669679,\n",
      "                           'name': 'pm25 µg/m³',\n",
      "                           'parameter': {'displayName': 'PM2.5',\n",
      "                                         'id': 2,\n",
      "                                         'name': 'pm25',\n",
      "                                         'units': 'µg/m³'}}],\n",
      "              'timezone': 'America/Costa_Rica'}]}\n"
     ]
    }
   ],
   "source": [
    "# Costa Rica example\n",
    "cr_location_id = 3070644\n",
    "\n",
    "cr_location_data = OpenAQClient._fetch_data(\n",
    "    endpoint=LOCATIONS_ENDPOINT,\n",
    "    parameters={\"location_id\": cr_location_id},\n",
    ").json()\n",
    "pprint(cr_location_data)"
   ]
  },
  {
   "cell_type": "markdown",
   "metadata": {},
   "source": [
    "Específicamente, este endpoint extrae, entre otras cosas, la información de los sensores que toman datos allí. Con esta información es posible obtener la información de los datos que han medido los sensores a través del tiempo.\n",
    "\n",
    "En este caso, y a modo de ejemplo, vamos a obtener la información del primer sensor de Costa Rica."
   ]
  },
  {
   "cell_type": "code",
   "execution_count": 58,
   "metadata": {},
   "outputs": [
    {
     "name": "stdout",
     "output_type": "stream",
     "text": [
      "last page: 1\n",
      "Total pages: 1\n"
     ]
    }
   ],
   "source": [
    "# Get the first sensor\n",
    "sensor = cr_location_data[\"results\"][0][\"sensors\"][0]\n",
    "not_finished = True\n",
    "query_params = {\"limit\": 1000, \"page\": 1}\n",
    "\n",
    "while not_finished:\n",
    "    sensor_id = sensor[\"id\"]\n",
    "    sensor_data = OpenAQClient._fetch_data(\n",
    "        endpoint=MEASUREMENTS_ENDPOINT,\n",
    "        parameters={\"sensor_id\": sensor_id},\n",
    "        query_parameters=query_params,\n",
    "    ).json()\n",
    "    if len(sensor_data[\"results\"]) < 1000:\n",
    "        print(f\"last page: {sensor_data['meta']['page']}\")\n",
    "        not_finished = False\n",
    "\n",
    "    else:\n",
    "        query_params[\"page\"] += 1\n",
    "\n",
    "print(f\"Total pages: {query_params['page']}\")"
   ]
  },
  {
   "cell_type": "markdown",
   "metadata": {},
   "source": [
    "Agrupando las mediciones por día, se obtiene una granularidad decente para el análisis de los datos, pues muchos países no tiene una única página de datos como Costa Rica, si no que tiene muchísimas páginas más.\n",
    "\n",
    "Vamos a hacer una función para obtener la información de todas las páginas de medidas que arroja el endpoint."
   ]
  },
  {
   "cell_type": "markdown",
   "metadata": {},
   "source": [
    "### Obtención de datos de todas las localizaciones\n",
    "\n",
    "Por comodidad, también podemos hacer una clase localización, que guarde datos básicos de ella y además los datos de sus sensores."
   ]
  },
  {
   "cell_type": "code",
   "execution_count": 59,
   "metadata": {},
   "outputs": [],
   "source": [
    "class Location:\n",
    "    def __init__(\n",
    "        self,\n",
    "        country: str,\n",
    "        name: str,\n",
    "        id: int,\n",
    "        sensors_data: dict = None,\n",
    "    ) -> None:\n",
    "        self.country: str = country\n",
    "        self.name: str = name\n",
    "        self.id: int = id\n",
    "        self.sensors_data: dict = sensors_data\n",
    "        self.file_path: str = f\"{DATA_DIR}/{country}_{name}/{country}_{name}\"\n",
    "\n",
    "    def pull_sensors_data(self) -> None:\n",
    "        self.sensors_data = OpenAQClient.fetch_location_sensors_data(self.id)\n",
    "\n",
    "    @staticmethod\n",
    "    def save(location: \"Location\") -> None:\n",
    "        if not os.path.isdir(DATA_DIR + f\"/{location.country}_{location.name}\"):\n",
    "            os.mkdir(DATA_DIR + f\"/{location.country}_{location.name}\")\n",
    "\n",
    "        with open(f\"{location.file_path}.pkl\", \"wb\") as f:\n",
    "            pkl.dump(location, f)\n",
    "\n",
    "    @staticmethod\n",
    "    def load(location: \"Location\") -> \"Location\":\n",
    "        with open(f\"{location.file_path}.pkl\", \"rb\") as f:\n",
    "            location = pkl.load(f)\n",
    "\n",
    "        return location"
   ]
  },
  {
   "cell_type": "code",
   "execution_count": 60,
   "metadata": {},
   "outputs": [],
   "source": [
    "locations = [\n",
    "    Location(\n",
    "        country=\"Costa Rica\",\n",
    "        name=\"NASA GSFC Rutgers Calib. N13\",\n",
    "        id=3070644,\n",
    "    ),\n",
    "    Location(\n",
    "        country=\"Spain\",\n",
    "        name=\"Escaldes-Engordany\",\n",
    "        id=9742,\n",
    "    ),\n",
    "]"
   ]
  },
  {
   "cell_type": "markdown",
   "metadata": {},
   "source": [
    "Vamos a jalar los datos agrupados por día para cada localización. Sería posible obtener cada una de las mediciones individuales, sin embargo, el endpoint no está optimizado para que le soliciten tantas páginas. Mientras más alto es el número de página que se le solicita, más lenta va a ser la respuesta. El servidor mata la solicitud si tarda demasiado. Ejecute esta celda para ver el comportamiento descrito:"
   ]
  },
  {
   "cell_type": "code",
   "execution_count": null,
   "metadata": {},
   "outputs": [
    {
     "name": "stdout",
     "output_type": "stream",
     "text": [
      "2025-04-24 05:05:08 - __main__ - INFO - \u001b[34mFetching data for location ID: 3070644...\u001b[0m\n",
      "2025-04-24 05:05:09 - __main__ - INFO - \u001b[32mFinished fetching location data for ID: 3070644\u001b[0m\n",
      "2025-04-24 05:05:09 - __main__ - INFO - \u001b[34mProcessing sensor ID: 10669679 (sensor 1/1)\u001b[0m\n",
      "2025-04-24 05:05:09 - __main__ - INFO - \u001b[34mProcessing sensor ID 10669679, page 1\u001b[0m\n",
      "2025-04-24 05:05:09 - __main__ - WARNING - \u001b[38;5;214mRemaining requests: 56\u001b[0m\n",
      "2025-04-24 05:05:09 - __main__ - INFO - \u001b[34mProcessing sensor ID 10669679, page 2\u001b[0m\n",
      "2025-04-24 05:05:09 - __main__ - WARNING - \u001b[38;5;214mRemaining requests: 55\u001b[0m\n",
      "2025-04-24 05:05:09 - __main__ - INFO - \u001b[34mProcessing sensor ID 10669679, page 3\u001b[0m\n",
      "2025-04-24 05:05:09 - __main__ - WARNING - \u001b[38;5;214mRemaining requests: 54\u001b[0m\n",
      "2025-04-24 05:05:09 - __main__ - INFO - \u001b[32mFinished processing sensor ID: 10669679\u001b[0m\n",
      "2025-04-24 05:05:09 - __main__ - INFO - \u001b[32mFinished processing all sensors for location ID: 3070644\u001b[0m\n",
      "2025-04-24 05:05:09 - __main__ - INFO - \u001b[32mSaved data for location NASA GSFC Rutgers Calib. N13\u001b[0m\n",
      "2025-04-24 05:05:09 - __main__ - INFO - \u001b[34mFetching data for location ID: 9742...\u001b[0m\n",
      "2025-04-24 05:05:09 - __main__ - INFO - \u001b[32mFinished fetching location data for ID: 9742\u001b[0m\n",
      "2025-04-24 05:05:09 - __main__ - INFO - \u001b[34mProcessing sensor ID: 30389 (sensor 1/7)\u001b[0m\n",
      "2025-04-24 05:05:10 - __main__ - INFO - \u001b[34mProcessing sensor ID 30389, page 1\u001b[0m\n",
      "2025-04-24 05:05:10 - __main__ - WARNING - \u001b[38;5;214mRemaining requests: 52\u001b[0m\n",
      "2025-04-24 05:05:10 - __main__ - INFO - \u001b[34mProcessing sensor ID 30389, page 2\u001b[0m\n",
      "2025-04-24 05:05:10 - __main__ - WARNING - \u001b[38;5;214mRemaining requests: 51\u001b[0m\n",
      "2025-04-24 05:05:11 - __main__ - INFO - \u001b[34mProcessing sensor ID 30389, page 3\u001b[0m\n",
      "2025-04-24 05:05:11 - __main__ - WARNING - \u001b[38;5;214mRemaining requests: 50\u001b[0m\n",
      "2025-04-24 05:05:12 - __main__ - INFO - \u001b[34mProcessing sensor ID 30389, page 4\u001b[0m\n",
      "2025-04-24 05:05:12 - __main__ - WARNING - \u001b[38;5;214mRemaining requests: 49\u001b[0m\n",
      "2025-04-24 05:05:12 - __main__ - INFO - \u001b[34mProcessing sensor ID 30389, page 5\u001b[0m\n",
      "2025-04-24 05:05:12 - __main__ - WARNING - \u001b[38;5;214mRemaining requests: 48\u001b[0m\n",
      "2025-04-24 05:05:13 - __main__ - INFO - \u001b[34mProcessing sensor ID 30389, page 6\u001b[0m\n",
      "2025-04-24 05:05:13 - __main__ - WARNING - \u001b[38;5;214mRemaining requests: 47\u001b[0m\n",
      "2025-04-24 05:05:13 - __main__ - INFO - \u001b[34mProcessing sensor ID 30389, page 7\u001b[0m\n",
      "2025-04-24 05:05:13 - __main__ - WARNING - \u001b[38;5;214mRemaining requests: 46\u001b[0m\n",
      "2025-04-24 05:05:14 - __main__ - INFO - \u001b[34mProcessing sensor ID 30389, page 8\u001b[0m\n",
      "2025-04-24 05:05:14 - __main__ - WARNING - \u001b[38;5;214mRemaining requests: 45\u001b[0m\n",
      "2025-04-24 05:05:15 - __main__ - INFO - \u001b[34mProcessing sensor ID 30389, page 9\u001b[0m\n",
      "2025-04-24 05:05:15 - __main__ - WARNING - \u001b[38;5;214mRemaining requests: 44\u001b[0m\n",
      "2025-04-24 05:05:15 - __main__ - INFO - \u001b[34mProcessing sensor ID 30389, page 10\u001b[0m\n",
      "2025-04-24 05:05:15 - __main__ - WARNING - \u001b[38;5;214mRemaining requests: 43\u001b[0m\n",
      "2025-04-24 05:05:16 - __main__ - INFO - \u001b[34mProcessing sensor ID 30389, page 11\u001b[0m\n",
      "2025-04-24 05:05:16 - __main__ - WARNING - \u001b[38;5;214mRemaining requests: 42\u001b[0m\n",
      "2025-04-24 05:05:17 - __main__ - INFO - \u001b[34mProcessing sensor ID 30389, page 12\u001b[0m\n",
      "2025-04-24 05:05:17 - __main__ - WARNING - \u001b[38;5;214mRemaining requests: 41\u001b[0m\n",
      "2025-04-24 05:05:18 - __main__ - INFO - \u001b[34mProcessing sensor ID 30389, page 13\u001b[0m\n",
      "2025-04-24 05:05:18 - __main__ - WARNING - \u001b[38;5;214mRemaining requests: 40\u001b[0m\n",
      "2025-04-24 05:05:19 - __main__ - INFO - \u001b[34mProcessing sensor ID 30389, page 14\u001b[0m\n",
      "2025-04-24 05:05:19 - __main__ - WARNING - \u001b[38;5;214mRemaining requests: 39\u001b[0m\n",
      "2025-04-24 05:05:20 - __main__ - INFO - \u001b[34mProcessing sensor ID 30389, page 15\u001b[0m\n",
      "2025-04-24 05:05:20 - __main__ - WARNING - \u001b[38;5;214mRemaining requests: 38\u001b[0m\n",
      "2025-04-24 05:05:21 - __main__ - INFO - \u001b[34mProcessing sensor ID 30389, page 16\u001b[0m\n",
      "2025-04-24 05:05:21 - __main__ - WARNING - \u001b[38;5;214mRemaining requests: 37\u001b[0m\n"
     ]
    }
   ],
   "source": [
    "MEASUREMENTS_ENDPOINT = urljoin(BASE_API_URL, \"sensors/{sensor_id}/measurements\")\n",
    "\n",
    "# For every location, save all info\n",
    "for location in locations:\n",
    "    location.pull_sensors_data()\n",
    "    Location.save(location)\n",
    "\n",
    "    del location.sensors_data\n",
    "\n",
    "    logger.success(f\"Saved data for location {location.name}\")"
   ]
  },
  {
   "cell_type": "markdown",
   "metadata": {},
   "source": [
    "Por lo tanto, **se prefirió hacer las solicitudes agrupadas por día**, que todavía son suficientemente representativas."
   ]
  },
  {
   "cell_type": "code",
   "execution_count": null,
   "metadata": {},
   "outputs": [
    {
     "name": "stdout",
     "output_type": "stream",
     "text": [
      "2025-04-24 04:53:02 - __main__ - INFO - \u001b[34mFetching data for location ID: 3070644...\u001b[0m\n",
      "2025-04-24 04:53:02 - __main__ - INFO - \u001b[32mFinished fetching location data for ID: 3070644\u001b[0m\n",
      "2025-04-24 04:53:02 - __main__ - INFO - \u001b[34mProcessing sensor ID: 10669679 (sensor 1/1)\u001b[0m\n",
      "2025-04-24 04:53:02 - __main__ - INFO - \u001b[34mProcessing sensor ID 10669679, page 1\u001b[0m\n",
      "2025-04-24 04:53:02 - __main__ - WARNING - \u001b[38;5;214mRemaining requests: 58\u001b[0m\n",
      "2025-04-24 04:53:02 - __main__ - INFO - \u001b[34mProcessing sensor ID 10669679, page 2\u001b[0m\n",
      "2025-04-24 04:53:02 - __main__ - WARNING - \u001b[38;5;214mRemaining requests: 57\u001b[0m\n",
      "2025-04-24 04:53:03 - __main__ - INFO - \u001b[34mProcessing sensor ID 10669679, page 3\u001b[0m\n",
      "2025-04-24 04:53:03 - __main__ - WARNING - \u001b[38;5;214mRemaining requests: 56\u001b[0m\n",
      "2025-04-24 04:53:03 - __main__ - INFO - \u001b[32mFinished processing sensor ID: 10669679\u001b[0m\n",
      "2025-04-24 04:53:03 - __main__ - INFO - \u001b[32mFinished processing all sensors for location ID: 3070644\u001b[0m\n",
      "2025-04-24 04:53:03 - __main__ - INFO - \u001b[32mSaved data for location NASA GSFC Rutgers Calib. N13\u001b[0m\n",
      "2025-04-24 04:53:03 - __main__ - INFO - \u001b[34mFetching data for location ID: 9742...\u001b[0m\n",
      "2025-04-24 04:53:03 - __main__ - INFO - \u001b[32mFinished fetching location data for ID: 9742\u001b[0m\n",
      "2025-04-24 04:53:03 - __main__ - INFO - \u001b[34mProcessing sensor ID: 30389 (sensor 1/7)\u001b[0m\n",
      "2025-04-24 04:53:03 - __main__ - INFO - \u001b[34mProcessing sensor ID 30389, page 1\u001b[0m\n",
      "2025-04-24 04:53:03 - __main__ - WARNING - \u001b[38;5;214mRemaining requests: 54\u001b[0m\n",
      "2025-04-24 04:53:04 - __main__ - INFO - \u001b[34mProcessing sensor ID 30389, page 2\u001b[0m\n",
      "2025-04-24 04:53:04 - __main__ - WARNING - \u001b[38;5;214mRemaining requests: 53\u001b[0m\n",
      "2025-04-24 04:53:04 - __main__ - INFO - \u001b[34mProcessing sensor ID 30389, page 3\u001b[0m\n",
      "2025-04-24 04:53:04 - __main__ - WARNING - \u001b[38;5;214mRemaining requests: 52\u001b[0m\n",
      "2025-04-24 04:53:05 - __main__ - INFO - \u001b[34mProcessing sensor ID 30389, page 4\u001b[0m\n",
      "2025-04-24 04:53:05 - __main__ - WARNING - \u001b[38;5;214mRemaining requests: 51\u001b[0m\n",
      "2025-04-24 04:53:05 - __main__ - INFO - \u001b[34mProcessing sensor ID 30389, page 5\u001b[0m\n",
      "2025-04-24 04:53:05 - __main__ - WARNING - \u001b[38;5;214mRemaining requests: 50\u001b[0m\n",
      "2025-04-24 04:53:06 - __main__ - INFO - \u001b[34mProcessing sensor ID 30389, page 6\u001b[0m\n",
      "2025-04-24 04:53:06 - __main__ - WARNING - \u001b[38;5;214mRemaining requests: 49\u001b[0m\n",
      "2025-04-24 04:53:06 - __main__ - INFO - \u001b[34mProcessing sensor ID 30389, page 7\u001b[0m\n",
      "2025-04-24 04:53:06 - __main__ - WARNING - \u001b[38;5;214mRemaining requests: 48\u001b[0m\n",
      "2025-04-24 04:53:07 - __main__ - INFO - \u001b[34mProcessing sensor ID 30389, page 8\u001b[0m\n",
      "2025-04-24 04:53:07 - __main__ - WARNING - \u001b[38;5;214mRemaining requests: 47\u001b[0m\n",
      "2025-04-24 04:53:08 - __main__ - INFO - \u001b[34mProcessing sensor ID 30389, page 9\u001b[0m\n",
      "2025-04-24 04:53:08 - __main__ - WARNING - \u001b[38;5;214mRemaining requests: 46\u001b[0m\n",
      "2025-04-24 04:53:08 - __main__ - INFO - \u001b[34mProcessing sensor ID 30389, page 10\u001b[0m\n",
      "2025-04-24 04:53:08 - __main__ - WARNING - \u001b[38;5;214mRemaining requests: 45\u001b[0m\n",
      "2025-04-24 04:53:09 - __main__ - INFO - \u001b[34mProcessing sensor ID 30389, page 11\u001b[0m\n",
      "2025-04-24 04:53:09 - __main__ - WARNING - \u001b[38;5;214mRemaining requests: 44\u001b[0m\n",
      "2025-04-24 04:53:10 - __main__ - INFO - \u001b[34mProcessing sensor ID 30389, page 12\u001b[0m\n",
      "2025-04-24 04:53:10 - __main__ - WARNING - \u001b[38;5;214mRemaining requests: 43\u001b[0m\n",
      "2025-04-24 04:53:11 - __main__ - INFO - \u001b[34mProcessing sensor ID 30389, page 13\u001b[0m\n",
      "2025-04-24 04:53:11 - __main__ - WARNING - \u001b[38;5;214mRemaining requests: 42\u001b[0m\n",
      "2025-04-24 04:53:12 - __main__ - INFO - \u001b[34mProcessing sensor ID 30389, page 14\u001b[0m\n",
      "2025-04-24 04:53:12 - __main__ - WARNING - \u001b[38;5;214mRemaining requests: 41\u001b[0m\n",
      "2025-04-24 04:53:12 - __main__ - INFO - \u001b[34mProcessing sensor ID 30389, page 15\u001b[0m\n",
      "2025-04-24 04:53:12 - __main__ - WARNING - \u001b[38;5;214mRemaining requests: 40\u001b[0m\n",
      "2025-04-24 04:53:13 - __main__ - INFO - \u001b[34mProcessing sensor ID 30389, page 16\u001b[0m\n",
      "2025-04-24 04:53:13 - __main__ - WARNING - \u001b[38;5;214mRemaining requests: 39\u001b[0m\n",
      "2025-04-24 04:53:14 - __main__ - INFO - \u001b[34mProcessing sensor ID 30389, page 17\u001b[0m\n",
      "2025-04-24 04:53:14 - __main__ - WARNING - \u001b[38;5;214mRemaining requests: 38\u001b[0m\n",
      "2025-04-24 04:53:15 - __main__ - INFO - \u001b[34mProcessing sensor ID 30389, page 18\u001b[0m\n",
      "2025-04-24 04:53:15 - __main__ - WARNING - \u001b[38;5;214mRemaining requests: 37\u001b[0m\n",
      "2025-04-24 04:53:16 - __main__ - INFO - \u001b[34mProcessing sensor ID 30389, page 19\u001b[0m\n",
      "2025-04-24 04:53:16 - __main__ - WARNING - \u001b[38;5;214mRemaining requests: 36\u001b[0m\n",
      "2025-04-24 04:53:17 - __main__ - INFO - \u001b[34mProcessing sensor ID 30389, page 20\u001b[0m\n",
      "2025-04-24 04:53:17 - __main__ - WARNING - \u001b[38;5;214mRemaining requests: 35\u001b[0m\n",
      "2025-04-24 04:53:18 - __main__ - INFO - \u001b[34mProcessing sensor ID 30389, page 21\u001b[0m\n",
      "2025-04-24 04:53:18 - __main__ - WARNING - \u001b[38;5;214mRemaining requests: 34\u001b[0m\n",
      "2025-04-24 04:53:19 - __main__ - INFO - \u001b[34mProcessing sensor ID 30389, page 22\u001b[0m\n",
      "2025-04-24 04:53:19 - __main__ - WARNING - \u001b[38;5;214mRemaining requests: 33\u001b[0m\n",
      "2025-04-24 04:53:20 - __main__ - INFO - \u001b[34mProcessing sensor ID 30389, page 23\u001b[0m\n",
      "2025-04-24 04:53:20 - __main__ - WARNING - \u001b[38;5;214mRemaining requests: 32\u001b[0m\n",
      "2025-04-24 04:53:21 - __main__ - INFO - \u001b[34mProcessing sensor ID 30389, page 24\u001b[0m\n",
      "2025-04-24 04:53:21 - __main__ - WARNING - \u001b[38;5;214mRemaining requests: 31\u001b[0m\n",
      "2025-04-24 04:53:21 - __main__ - INFO - \u001b[32mFinished processing sensor ID: 30389\u001b[0m\n",
      "2025-04-24 04:53:21 - __main__ - INFO - \u001b[34mProcessing sensor ID: 4272958 (sensor 2/7)\u001b[0m\n",
      "2025-04-24 04:53:22 - __main__ - INFO - \u001b[34mProcessing sensor ID 4272958, page 1\u001b[0m\n",
      "2025-04-24 04:53:22 - __main__ - WARNING - \u001b[38;5;214mRemaining requests: 30\u001b[0m\n",
      "2025-04-24 04:53:22 - __main__ - INFO - \u001b[34mProcessing sensor ID 4272958, page 2\u001b[0m\n",
      "2025-04-24 04:53:22 - __main__ - WARNING - \u001b[38;5;214mRemaining requests: 29\u001b[0m\n",
      "2025-04-24 04:53:22 - __main__ - INFO - \u001b[34mProcessing sensor ID 4272958, page 3\u001b[0m\n",
      "2025-04-24 04:53:22 - __main__ - WARNING - \u001b[38;5;214mRemaining requests: 28\u001b[0m\n",
      "2025-04-24 04:53:22 - __main__ - INFO - \u001b[34mProcessing sensor ID 4272958, page 4\u001b[0m\n",
      "2025-04-24 04:53:22 - __main__ - WARNING - \u001b[38;5;214mRemaining requests: 27\u001b[0m\n",
      "2025-04-24 04:53:22 - __main__ - INFO - \u001b[32mFinished processing sensor ID: 4272958\u001b[0m\n",
      "2025-04-24 04:53:22 - __main__ - INFO - \u001b[34mProcessing sensor ID: 30387 (sensor 3/7)\u001b[0m\n",
      "2025-04-24 04:53:23 - __main__ - INFO - \u001b[34mProcessing sensor ID 30387, page 1\u001b[0m\n",
      "2025-04-24 04:53:23 - __main__ - WARNING - \u001b[38;5;214mRemaining requests: 26\u001b[0m\n",
      "2025-04-24 04:53:23 - __main__ - INFO - \u001b[34mProcessing sensor ID 30387, page 2\u001b[0m\n",
      "2025-04-24 04:53:23 - __main__ - WARNING - \u001b[38;5;214mRemaining requests: 25\u001b[0m\n",
      "2025-04-24 04:53:24 - __main__ - INFO - \u001b[34mProcessing sensor ID 30387, page 3\u001b[0m\n",
      "2025-04-24 04:53:24 - __main__ - WARNING - \u001b[38;5;214mRemaining requests: 24\u001b[0m\n",
      "2025-04-24 04:53:24 - __main__ - INFO - \u001b[34mProcessing sensor ID 30387, page 4\u001b[0m\n",
      "2025-04-24 04:53:24 - __main__ - WARNING - \u001b[38;5;214mRemaining requests: 23\u001b[0m\n",
      "2025-04-24 04:53:25 - __main__ - INFO - \u001b[34mProcessing sensor ID 30387, page 5\u001b[0m\n",
      "2025-04-24 04:53:25 - __main__ - WARNING - \u001b[38;5;214mRemaining requests: 22\u001b[0m\n",
      "2025-04-24 04:53:26 - __main__ - INFO - \u001b[34mProcessing sensor ID 30387, page 6\u001b[0m\n",
      "2025-04-24 04:53:26 - __main__ - WARNING - \u001b[38;5;214mRemaining requests: 21\u001b[0m\n",
      "2025-04-24 04:53:26 - __main__ - INFO - \u001b[34mProcessing sensor ID 30387, page 7\u001b[0m\n",
      "2025-04-24 04:53:26 - __main__ - WARNING - \u001b[38;5;214mRemaining requests: 20\u001b[0m\n",
      "2025-04-24 04:53:27 - __main__ - INFO - \u001b[34mProcessing sensor ID 30387, page 8\u001b[0m\n",
      "2025-04-24 04:53:27 - __main__ - WARNING - \u001b[38;5;214mRemaining requests: 19\u001b[0m\n",
      "2025-04-24 04:53:28 - __main__ - INFO - \u001b[34mProcessing sensor ID 30387, page 9\u001b[0m\n",
      "2025-04-24 04:53:28 - __main__ - WARNING - \u001b[38;5;214mRemaining requests: 18\u001b[0m\n",
      "2025-04-24 04:53:28 - __main__ - INFO - \u001b[34mProcessing sensor ID 30387, page 10\u001b[0m\n",
      "2025-04-24 04:53:28 - __main__ - WARNING - \u001b[38;5;214mRemaining requests: 17\u001b[0m\n",
      "2025-04-24 04:53:29 - __main__ - INFO - \u001b[34mProcessing sensor ID 30387, page 11\u001b[0m\n",
      "2025-04-24 04:53:29 - __main__ - WARNING - \u001b[38;5;214mRemaining requests: 16\u001b[0m\n",
      "2025-04-24 04:53:30 - __main__ - INFO - \u001b[34mProcessing sensor ID 30387, page 12\u001b[0m\n",
      "2025-04-24 04:53:30 - __main__ - WARNING - \u001b[38;5;214mRemaining requests: 15\u001b[0m\n",
      "2025-04-24 04:53:31 - __main__ - INFO - \u001b[34mProcessing sensor ID 30387, page 13\u001b[0m\n",
      "2025-04-24 04:53:31 - __main__ - WARNING - \u001b[38;5;214mRemaining requests: 14\u001b[0m\n",
      "2025-04-24 04:53:31 - __main__ - INFO - \u001b[34mProcessing sensor ID 30387, page 14\u001b[0m\n",
      "2025-04-24 04:53:31 - __main__ - WARNING - \u001b[38;5;214mRemaining requests: 13\u001b[0m\n",
      "2025-04-24 04:53:32 - __main__ - INFO - \u001b[34mProcessing sensor ID 30387, page 15\u001b[0m\n",
      "2025-04-24 04:53:32 - __main__ - WARNING - \u001b[38;5;214mRemaining requests: 12\u001b[0m\n",
      "2025-04-24 04:53:33 - __main__ - INFO - \u001b[34mProcessing sensor ID 30387, page 16\u001b[0m\n",
      "2025-04-24 04:53:33 - __main__ - WARNING - \u001b[38;5;214mRemaining requests: 11\u001b[0m\n",
      "2025-04-24 04:53:34 - __main__ - INFO - \u001b[34mProcessing sensor ID 30387, page 17\u001b[0m\n",
      "2025-04-24 04:53:34 - __main__ - WARNING - \u001b[38;5;214mRemaining requests: 10\u001b[0m\n",
      "2025-04-24 04:53:35 - __main__ - INFO - \u001b[34mProcessing sensor ID 30387, page 18\u001b[0m\n",
      "2025-04-24 04:53:35 - __main__ - WARNING - \u001b[38;5;214mRemaining requests: 9\u001b[0m\n",
      "2025-04-24 04:53:36 - __main__ - INFO - \u001b[34mProcessing sensor ID 30387, page 19\u001b[0m\n",
      "2025-04-24 04:53:36 - __main__ - WARNING - \u001b[38;5;214mRemaining requests: 8\u001b[0m\n",
      "2025-04-24 04:53:37 - __main__ - INFO - \u001b[34mProcessing sensor ID 30387, page 20\u001b[0m\n",
      "2025-04-24 04:53:37 - __main__ - WARNING - \u001b[38;5;214mRemaining requests: 7\u001b[0m\n",
      "2025-04-24 04:53:38 - __main__ - INFO - \u001b[34mProcessing sensor ID 30387, page 21\u001b[0m\n",
      "2025-04-24 04:53:38 - __main__ - WARNING - \u001b[38;5;214mRemaining requests: 6\u001b[0m\n",
      "2025-04-24 04:53:39 - __main__ - INFO - \u001b[34mProcessing sensor ID 30387, page 22\u001b[0m\n",
      "2025-04-24 04:53:39 - __main__ - WARNING - \u001b[38;5;214mRemaining requests: 5\u001b[0m\n",
      "2025-04-24 04:53:41 - __main__ - INFO - \u001b[34mProcessing sensor ID 30387, page 23\u001b[0m\n",
      "2025-04-24 04:53:41 - __main__ - WARNING - \u001b[38;5;214mRemaining requests: 4\u001b[0m\n",
      "2025-04-24 04:53:42 - __main__ - INFO - \u001b[34mProcessing sensor ID 30387, page 24\u001b[0m\n",
      "2025-04-24 04:53:42 - __main__ - WARNING - \u001b[38;5;214mRemaining requests: 3\u001b[0m\n",
      "2025-04-24 04:53:43 - __main__ - INFO - \u001b[34mProcessing sensor ID 30387, page 25\u001b[0m\n",
      "2025-04-24 04:53:43 - __main__ - WARNING - \u001b[38;5;214mRemaining requests: 2\u001b[0m\n",
      "2025-04-24 04:53:44 - __main__ - INFO - \u001b[34mProcessing sensor ID 30387, page 26\u001b[0m\n",
      "2025-04-24 04:53:44 - __main__ - WARNING - \u001b[38;5;214mRemaining requests: 1\u001b[0m\n",
      "2025-04-24 04:53:44 - __main__ - INFO - \u001b[32mFinished processing sensor ID: 30387\u001b[0m\n",
      "2025-04-24 04:53:44 - __main__ - INFO - \u001b[34mProcessing sensor ID: 30386 (sensor 4/7)\u001b[0m\n",
      "2025-04-24 04:53:45 - __main__ - INFO - \u001b[34mProcessing sensor ID 30386, page 1\u001b[0m\n",
      "2025-04-24 04:53:45 - __main__ - WARNING - \u001b[38;5;214mRemaining requests: 0\u001b[0m\n"
     ]
    },
    {
     "name": "stderr",
     "output_type": "stream",
     "text": [
      "Error fetching measurements for sensor ID 30386: Request failed with status: 429. Reason: {\"detail\":\"Too many requests\"}\n"
     ]
    },
    {
     "name": "stdout",
     "output_type": "stream",
     "text": [
      "2025-04-24 04:53:45 - __main__ - INFO - \u001b[32mFinished processing sensor ID: 30386\u001b[0m\n",
      "2025-04-24 04:53:45 - __main__ - INFO - \u001b[34mProcessing sensor ID: 30385 (sensor 5/7)\u001b[0m\n"
     ]
    },
    {
     "name": "stderr",
     "output_type": "stream",
     "text": [
      "Error fetching measurements for sensor ID 30385: Request failed with status: 429. Reason: {\"detail\":\"Too many requests\"}\n"
     ]
    },
    {
     "name": "stdout",
     "output_type": "stream",
     "text": [
      "2025-04-24 04:53:45 - __main__ - INFO - \u001b[32mFinished processing sensor ID: 30385\u001b[0m\n",
      "2025-04-24 04:53:45 - __main__ - INFO - \u001b[34mProcessing sensor ID: 3546106 (sensor 6/7)\u001b[0m\n"
     ]
    },
    {
     "name": "stderr",
     "output_type": "stream",
     "text": [
      "Error fetching measurements for sensor ID 3546106: Request failed with status: 429. Reason: {\"detail\":\"Too many requests\"}\n"
     ]
    },
    {
     "name": "stdout",
     "output_type": "stream",
     "text": [
      "2025-04-24 04:53:45 - __main__ - INFO - \u001b[32mFinished processing sensor ID: 3546106\u001b[0m\n",
      "2025-04-24 04:53:45 - __main__ - INFO - \u001b[34mProcessing sensor ID: 30384 (sensor 7/7)\u001b[0m\n"
     ]
    },
    {
     "name": "stderr",
     "output_type": "stream",
     "text": [
      "Error fetching measurements for sensor ID 30384: Request failed with status: 429. Reason: {\"detail\":\"Too many requests\"}\n"
     ]
    },
    {
     "name": "stdout",
     "output_type": "stream",
     "text": [
      "2025-04-24 04:53:45 - __main__ - INFO - \u001b[32mFinished processing sensor ID: 30384\u001b[0m\n",
      "2025-04-24 04:53:45 - __main__ - INFO - \u001b[32mFinished processing all sensors for location ID: 9742\u001b[0m\n",
      "2025-04-24 04:53:45 - __main__ - INFO - \u001b[32mSaved data for location Escaldes-Engordany\u001b[0m\n"
     ]
    }
   ],
   "source": [
    "MEASUREMENTS_ENDPOINT = urljoin(BASE_API_URL, \"sensors/{sensor_id}/measurements/daily\")\n",
    "\n",
    "# For every location, save all info\n",
    "for location in locations:\n",
    "    location.pull_sensors_data()\n",
    "    Location.save(location)\n",
    "\n",
    "    del location.sensors_data\n",
    "\n",
    "    logger.success(f\"Saved data for location {location.name}\")"
   ]
  },
  {
   "cell_type": "markdown",
   "metadata": {},
   "source": [
    "\n",
    "# 3. Tareas de limpieza y transformación:\n",
    "\n",
    "Se deben realizar las tareas de limpieza y transformación necesarias para poder hacer un comparativo de la evolución de los diferentes indicadores de la calidad del aire en Costa Rica y las otras ciudades.\n"
   ]
  },
  {
   "cell_type": "code",
   "execution_count": null,
   "metadata": {},
   "outputs": [],
   "source": [
    "# Load the data\n",
    "locations = [Location.load(location) for location in locations]"
   ]
  },
  {
   "cell_type": "markdown",
   "metadata": {},
   "source": [
    "### Paso a csv\n",
    "\n",
    "Primero, vamos a eliminar los datos que no interesan y quedarnos con los que son relevantes para hacer análisis"
   ]
  },
  {
   "cell_type": "code",
   "execution_count": null,
   "metadata": {},
   "outputs": [],
   "source": [
    "def location_to_pd(location_data: Location) -> pd.DataFrame:\n",
    "    \"\"\"Convert location measurement data into a pandas DataFrame.\n",
    "\n",
    "    Extracts individual sensor measurements from the nested structure\n",
    "    within a Location object (typically obtained from an API client like\n",
    "    OpenAQClient) and organizes them into a flat DataFrame format.\n",
    "\n",
    "    Parameters\n",
    "    ----------\n",
    "    location_data : Location\n",
    "        An object representing a specific location. It is expected to have\n",
    "        attributes: `id` (int), `name` (str), `country` (str), and\n",
    "        `sensors_data` (dict). The `sensors_data` attribute should be a\n",
    "        dictionary mapping sensor IDs to lists of page results. Each page\n",
    "        is expected to be a dictionary containing a 'results' key, which\n",
    "        maps to a list of individual measurement dictionaries.\n",
    "\n",
    "    Returns\n",
    "    -------\n",
    "    pd.DataFrame\n",
    "        A DataFrame where each row represents a single measurement period\n",
    "        for a specific sensor at the given location. Columns include:\n",
    "        'location_id', 'location_name', 'sensor_id', 'from_date',\n",
    "        'to_date', 'parameter_name', 'parameter_units', 'value',\n",
    "        'aggregated_count', 'summary_avg', 'summary_max', 'summary_median',\n",
    "        'summary_min', 'summary_q02', 'summary_q25', 'summary_q75',\n",
    "        'summary_q98', 'summary_sd'.\n",
    "\n",
    "    Notes\n",
    "    -----\n",
    "    Assumes the nested structure of `location_data.sensors_data` where\n",
    "    measurements are contained within pages under the 'results' key.\n",
    "    The structure typically originates from paginated API responses.\n",
    "\n",
    "    \"\"\"\n",
    "    rows = []\n",
    "    location_name = f\"{location_data.country} {location_data.name}\"\n",
    "\n",
    "    for sensor_id, sensor_pages in location_data.sensors_data.items():\n",
    "        for page in sensor_pages:\n",
    "            measurements = page.get(\"results\", [])\n",
    "\n",
    "            for measurement in measurements:\n",
    "                period = measurement.get(\"period\", {})\n",
    "                datetime_from = period.get(\"datetimeFrom\", {})\n",
    "                datetime_to = period.get(\"datetimeTo\", {})\n",
    "                parameter = measurement.get(\"parameter\", {})\n",
    "                coverage = measurement.get(\"coverage\", {})\n",
    "                summary = measurement.get(\"summary\", {})\n",
    "\n",
    "                rows.append(\n",
    "                    [\n",
    "                        location_data.id,\n",
    "                        location_name,\n",
    "                        sensor_id,\n",
    "                        datetime_from.get(\"utc\"),\n",
    "                        datetime_to.get(\"utc\"),\n",
    "                        parameter.get(\"name\"),\n",
    "                        parameter.get(\"units\"),\n",
    "                        measurement.get(\"value\"),\n",
    "                        coverage.get(\"observedCount\"),\n",
    "                        summary.get(\"avg\"),\n",
    "                        summary.get(\"max\"),\n",
    "                        summary.get(\"median\"),\n",
    "                        summary.get(\"min\"),\n",
    "                        summary.get(\"q02\"),\n",
    "                        summary.get(\"q25\"),\n",
    "                        summary.get(\"q75\"),\n",
    "                        summary.get(\"q98\"),\n",
    "                        summary.get(\"sd\"),\n",
    "                    ]\n",
    "                )\n",
    "\n",
    "    columns = [\n",
    "        \"location_id\",\n",
    "        \"location_name\",\n",
    "        \"sensor_id\",\n",
    "        \"from_date\",\n",
    "        \"to_date\",\n",
    "        \"parameter_name\",\n",
    "        \"parameter_units\",\n",
    "        \"value\",\n",
    "        \"aggregated_count\",\n",
    "        \"summary_avg\",\n",
    "        \"summary_max\",\n",
    "        \"summary_median\",\n",
    "        \"summary_min\",\n",
    "        \"summary_q02\",\n",
    "        \"summary_q25\",\n",
    "        \"summary_q75\",\n",
    "        \"summary_q98\",\n",
    "        \"summary_sd\",\n",
    "    ]\n",
    "\n",
    "    return pd.DataFrame(rows, columns=columns)"
   ]
  },
  {
   "cell_type": "code",
   "execution_count": null,
   "metadata": {},
   "outputs": [],
   "source": [
    "for location in locations:\n",
    "    df = location_to_pd(location)\n",
    "    df.to_csv(f\"{location.file_path}.csv\", index=False)"
   ]
  },
  {
   "cell_type": "code",
   "execution_count": null,
   "metadata": {},
   "outputs": [],
   "source": [
    "locations_dfs = [pd.read_csv(f\"{location.file_path}.csv\") for location in locations]"
   ]
  },
  {
   "cell_type": "markdown",
   "metadata": {},
   "source": [
    "### Descripción de los datos"
   ]
  },
  {
   "cell_type": "markdown",
   "metadata": {},
   "source": [
    "Veamos si hay valores nulos en alguno de los data frames."
   ]
  },
  {
   "cell_type": "code",
   "execution_count": null,
   "metadata": {},
   "outputs": [
    {
     "name": "stdout",
     "output_type": "stream",
     "text": [
      "2025-04-24 05:01:47 - __main__ - INFO - \u001b[34mLocation: Costa Rica NASA GSFC Rutgers Calib. N13\u001b[0m\n",
      "2025-04-24 05:01:47 - __main__ - INFO - \u001b[34mDataFrame null values: location_id         0\n",
      "location_name       0\n",
      "sensor_id           0\n",
      "from_date           0\n",
      "to_date             0\n",
      "parameter_name      0\n",
      "parameter_units     0\n",
      "value               0\n",
      "aggregated_count    0\n",
      "summary_avg         0\n",
      "summary_max         0\n",
      "summary_median      0\n",
      "summary_min         0\n",
      "summary_q02         0\n",
      "summary_q25         0\n",
      "summary_q75         0\n",
      "summary_q98         0\n",
      "summary_sd          0\n",
      "dtype: int64\u001b[0m\n",
      "2025-04-24 05:01:47 - __main__ - INFO - \u001b[34mLocation: Spain Escaldes-Engordany\u001b[0m\n",
      "2025-04-24 05:01:47 - __main__ - INFO - \u001b[34mDataFrame null values: location_id          0\n",
      "location_name        0\n",
      "sensor_id            0\n",
      "from_date            0\n",
      "to_date              0\n",
      "parameter_name       0\n",
      "parameter_units      0\n",
      "value                0\n",
      "aggregated_count     0\n",
      "summary_avg          0\n",
      "summary_max          0\n",
      "summary_median       0\n",
      "summary_min          0\n",
      "summary_q02          0\n",
      "summary_q25          0\n",
      "summary_q75          0\n",
      "summary_q98          0\n",
      "summary_sd          87\n",
      "dtype: int64\u001b[0m\n"
     ]
    }
   ],
   "source": [
    "for df, location in zip(locations_dfs, locations):\n",
    "    logger.info(f\"Location: {location.country} {location.name}\")\n",
    "    logger.info(f\"DataFrame null values: {df.isnull().sum()}\")"
   ]
  },
  {
   "cell_type": "markdown",
   "metadata": {},
   "source": [
    "Aparentemente hay valores nulos en el campo de \"sd\". Estos son datos en donde el proceso de agregado solo tenía un elemento, por lo que no hay una desviación estándar para los datos de ese día. Esto no es preocupante, pero se deben cambiar estos datos a un 0."
   ]
  },
  {
   "cell_type": "code",
   "execution_count": null,
   "metadata": {},
   "outputs": [],
   "source": [
    "for df in locations_dfs:\n",
    "    df[\"summary_sd\"] = df[\"summary_sd\"].replace(value=0, to_replace=pd.NA)"
   ]
  },
  {
   "cell_type": "markdown",
   "metadata": {},
   "source": [
    "Verifiquemos nuevamente la cantidad de nulos."
   ]
  },
  {
   "cell_type": "code",
   "execution_count": null,
   "metadata": {},
   "outputs": [
    {
     "name": "stdout",
     "output_type": "stream",
     "text": [
      "2025-04-24 05:02:06 - __main__ - INFO - \u001b[34mLocation: Costa Rica NASA GSFC Rutgers Calib. N13\u001b[0m\n",
      "2025-04-24 05:02:06 - __main__ - INFO - \u001b[34mDataFrame null values: \n",
      "location_id         0\n",
      "location_name       0\n",
      "sensor_id           0\n",
      "from_date           0\n",
      "to_date             0\n",
      "parameter_name      0\n",
      "parameter_units     0\n",
      "value               0\n",
      "aggregated_count    0\n",
      "summary_avg         0\n",
      "summary_max         0\n",
      "summary_median      0\n",
      "summary_min         0\n",
      "summary_q02         0\n",
      "summary_q25         0\n",
      "summary_q75         0\n",
      "summary_q98         0\n",
      "summary_sd          0\n",
      "dtype: int64\u001b[0m\n",
      "2025-04-24 05:02:06 - __main__ - INFO - \u001b[34mLocation: Spain Escaldes-Engordany\u001b[0m\n",
      "2025-04-24 05:02:06 - __main__ - INFO - \u001b[34mDataFrame null values: \n",
      "location_id          0\n",
      "location_name        0\n",
      "sensor_id            0\n",
      "from_date            0\n",
      "to_date              0\n",
      "parameter_name       0\n",
      "parameter_units      0\n",
      "value                0\n",
      "aggregated_count     0\n",
      "summary_avg          0\n",
      "summary_max          0\n",
      "summary_median       0\n",
      "summary_min          0\n",
      "summary_q02          0\n",
      "summary_q25          0\n",
      "summary_q75          0\n",
      "summary_q98          0\n",
      "summary_sd          87\n",
      "dtype: int64\u001b[0m\n"
     ]
    }
   ],
   "source": [
    "for df, location in zip(locations_dfs, locations):\n",
    "    logger.info(f\"Location: {location.country} {location.name}\")\n",
    "    logger.info(f\"DataFrame null values: \\n{df.isnull().sum()}\")"
   ]
  },
  {
   "cell_type": "markdown",
   "metadata": {},
   "source": [
    "Hemos limpiado los datos y están listos para el análisis."
   ]
  },
  {
   "cell_type": "code",
   "execution_count": null,
   "metadata": {},
   "outputs": [],
   "source": [
    "for df, location in zip(locations_dfs, locations):\n",
    "    df.to_csv(f\"{location.file_path}_cleaned.csv\", index=False)"
   ]
  },
  {
   "cell_type": "markdown",
   "metadata": {},
   "source": [
    "Veamos la cantidad de datos en cada localización."
   ]
  },
  {
   "cell_type": "code",
   "execution_count": null,
   "metadata": {},
   "outputs": [
    {
     "name": "stdout",
     "output_type": "stream",
     "text": [
      "2025-04-24 05:02:17 - __main__ - INFO - \u001b[34mLocation: Costa Rica NASA GSFC Rutgers Calib. N13\u001b[0m\n",
      "2025-04-24 05:02:17 - __main__ - INFO - \u001b[34mDataFrame shape: (200, 18)\u001b[0m\n",
      "2025-04-24 05:02:17 - __main__ - INFO - \u001b[34mLocation: Spain Escaldes-Engordany\u001b[0m\n",
      "2025-04-24 05:02:17 - __main__ - INFO - \u001b[34mDataFrame shape: (5330, 18)\u001b[0m\n"
     ]
    }
   ],
   "source": [
    "for df, location in zip(locations_dfs, locations):\n",
    "    logger.info(f\"Location: {location.country} {location.name}\")\n",
    "    logger.info(f\"DataFrame shape: {df.shape}\")"
   ]
  },
  {
   "cell_type": "markdown",
   "metadata": {},
   "source": [
    "También, podemos ver los datos en cada columna."
   ]
  },
  {
   "cell_type": "code",
   "execution_count": null,
   "metadata": {},
   "outputs": [
    {
     "name": "stdout",
     "output_type": "stream",
     "text": [
      "2025-04-24 05:02:29 - __main__ - INFO - \u001b[34mLocation: Costa Rica NASA GSFC Rutgers Calib. N13\u001b[0m\n",
      "<class 'pandas.core.frame.DataFrame'>\n",
      "RangeIndex: 200 entries, 0 to 199\n",
      "Data columns (total 18 columns):\n",
      " #   Column            Non-Null Count  Dtype  \n",
      "---  ------            --------------  -----  \n",
      " 0   location_id       200 non-null    int64  \n",
      " 1   location_name     200 non-null    object \n",
      " 2   sensor_id         200 non-null    int64  \n",
      " 3   from_date         200 non-null    object \n",
      " 4   to_date           200 non-null    object \n",
      " 5   parameter_name    200 non-null    object \n",
      " 6   parameter_units   200 non-null    object \n",
      " 7   value             200 non-null    float64\n",
      " 8   aggregated_count  200 non-null    int64  \n",
      " 9   summary_avg       200 non-null    float64\n",
      " 10  summary_max       200 non-null    float64\n",
      " 11  summary_median    200 non-null    float64\n",
      " 12  summary_min       200 non-null    float64\n",
      " 13  summary_q02       200 non-null    float64\n",
      " 14  summary_q25       200 non-null    float64\n",
      " 15  summary_q75       200 non-null    float64\n",
      " 16  summary_q98       200 non-null    float64\n",
      " 17  summary_sd        200 non-null    float64\n",
      "dtypes: float64(10), int64(3), object(5)\n",
      "memory usage: 28.3+ KB\n",
      "2025-04-24 05:02:29 - __main__ - INFO - \u001b[34mInfo: \n",
      "None\u001b[0m\n",
      "2025-04-24 05:02:29 - __main__ - INFO - \u001b[34mLocation: Spain Escaldes-Engordany\u001b[0m\n",
      "<class 'pandas.core.frame.DataFrame'>\n",
      "RangeIndex: 5330 entries, 0 to 5329\n",
      "Data columns (total 18 columns):\n",
      " #   Column            Non-Null Count  Dtype  \n",
      "---  ------            --------------  -----  \n",
      " 0   location_id       5330 non-null   int64  \n",
      " 1   location_name     5330 non-null   object \n",
      " 2   sensor_id         5330 non-null   int64  \n",
      " 3   from_date         5330 non-null   object \n",
      " 4   to_date           5330 non-null   object \n",
      " 5   parameter_name    5330 non-null   object \n",
      " 6   parameter_units   5330 non-null   object \n",
      " 7   value             5330 non-null   float64\n",
      " 8   aggregated_count  5330 non-null   int64  \n",
      " 9   summary_avg       5330 non-null   float64\n",
      " 10  summary_max       5330 non-null   float64\n",
      " 11  summary_median    5330 non-null   float64\n",
      " 12  summary_min       5330 non-null   float64\n",
      " 13  summary_q02       5330 non-null   float64\n",
      " 14  summary_q25       5330 non-null   float64\n",
      " 15  summary_q75       5330 non-null   float64\n",
      " 16  summary_q98       5330 non-null   float64\n",
      " 17  summary_sd        5243 non-null   float64\n",
      "dtypes: float64(10), int64(3), object(5)\n",
      "memory usage: 749.7+ KB\n",
      "2025-04-24 05:02:29 - __main__ - INFO - \u001b[34mInfo: \n",
      "None\u001b[0m\n"
     ]
    }
   ],
   "source": [
    "for df, location in zip(locations_dfs, locations):\n",
    "    logger.info(f\"Location: {location.country} {location.name}\")\n",
    "    logger.info(f\"Info: \\n{df.info()}\")"
   ]
  },
  {
   "cell_type": "markdown",
   "metadata": {},
   "source": [
    "Por último, podemos describir los datos numéricos en cada data frame."
   ]
  },
  {
   "cell_type": "code",
   "execution_count": null,
   "metadata": {},
   "outputs": [
    {
     "name": "stdout",
     "output_type": "stream",
     "text": [
      "2025-04-24 05:02:49 - __main__ - INFO - \u001b[34mLocation: Costa Rica NASA GSFC Rutgers Calib. N13\u001b[0m\n",
      "2025-04-24 05:02:49 - __main__ - INFO - \u001b[34mDescription: \n",
      "       location_id   sensor_id       value  aggregated_count  summary_avg  \\\n",
      "count        200.0       200.0  200.000000        200.000000   200.000000   \n",
      "mean     3070644.0  10669679.0    6.074200         62.480000     6.073991   \n",
      "std            0.0         0.0    1.358052         14.493443     1.357606   \n",
      "min      3070644.0  10669679.0    4.010000          4.000000     4.005652   \n",
      "25%      3070644.0  10669679.0    5.177500         55.000000     5.176488   \n",
      "50%      3070644.0  10669679.0    5.740000         64.000000     5.740726   \n",
      "75%      3070644.0  10669679.0    6.647500         73.000000     6.645236   \n",
      "max      3070644.0  10669679.0   12.400000         82.000000    12.368167   \n",
      "\n",
      "       summary_max  summary_median  summary_min  summary_q02  summary_q25  \\\n",
      "count   200.000000      200.000000    200.00000   200.000000   200.000000   \n",
      "mean      9.008450        5.920875      4.46395     4.562702     5.278062   \n",
      "std       3.167478        1.344132      0.77828     0.826811     1.123141   \n",
      "min       5.010000        3.890000      3.41000     3.420000     3.660000   \n",
      "25%       6.680000        5.062500      4.03000     4.090450     4.596250   \n",
      "50%       8.110000        5.625000      4.28000     4.341800     4.985000   \n",
      "75%      10.090000        6.376250      4.62500     4.768800     5.610000   \n",
      "max      27.540000       12.855000      9.29000     9.409400    11.575000   \n",
      "\n",
      "       summary_q75  summary_q98  summary_sd  \n",
      "count   200.000000   200.000000  200.000000  \n",
      "mean      6.727587     8.370760    1.080406  \n",
      "std       1.714994     2.558597    0.640616  \n",
      "min       4.270000     4.825600    0.105317  \n",
      "25%       5.536250     6.498850    0.629052  \n",
      "50%       6.315000     7.564900    0.870574  \n",
      "75%       7.371250     9.418250    1.348273  \n",
      "max      14.170000    16.935200    3.771614  \u001b[0m\n",
      "2025-04-24 05:02:49 - __main__ - INFO - \u001b[34mLocation: Spain Escaldes-Engordany\u001b[0m\n",
      "2025-04-24 05:02:49 - __main__ - INFO - \u001b[34mDescription: \n",
      "       location_id     sensor_id        value  aggregated_count  summary_avg  \\\n",
      "count       5330.0  5.330000e+03  5330.000000       5330.000000  5330.000000   \n",
      "mean        9742.0  2.898772e+05   117.483050         19.823827   117.469977   \n",
      "std            0.0  1.016740e+06   161.096306          5.920306   161.108331   \n",
      "min         9742.0  3.038600e+04    -1.000000          1.000000    -1.000000   \n",
      "25%         9742.0  3.038700e+04    19.400000         18.000000    19.416667   \n",
      "50%         9742.0  3.038700e+04    39.900000         22.000000    39.866601   \n",
      "75%         9742.0  3.038900e+04   192.000000         24.000000   191.666667   \n",
      "max         9742.0  4.272958e+06  4110.000000         25.000000  4113.043478   \n",
      "\n",
      "       summary_max  summary_median  summary_min  summary_q02  summary_q25  \\\n",
      "count  5330.000000     5330.000000  5330.000000  5330.000000  5330.000000   \n",
      "mean    202.874672      112.466482    62.531482    64.925300    86.445136   \n",
      "std     280.041063      163.978617   106.563846   107.563101   124.448130   \n",
      "min      -1.000000       -1.000000    -1.000000    -1.000000    -1.000000   \n",
      "25%      41.000000       16.912500     1.000000     2.000000     9.206250   \n",
      "50%      75.900000       38.000000     8.450000    10.000000    22.000000   \n",
      "75%     300.000000      200.000000   100.000000   100.000000   100.000000   \n",
      "max    7700.000000     5200.000000  1300.000000  1300.000000  1400.000000   \n",
      "\n",
      "       summary_q75  summary_q98   summary_sd  \n",
      "count  5330.000000  5330.000000  5243.000000  \n",
      "mean    141.607795   194.904334    44.535887  \n",
      "std     208.938599   267.966989    77.358908  \n",
      "min      -1.000000    -1.000000     0.000000  \n",
      "25%      24.875000    39.581000    10.156874  \n",
      "50%      54.000000    72.585000    19.277471  \n",
      "75%     200.000000   300.000000    63.805535  \n",
      "max    6850.000000  7512.000000  2960.851282  \u001b[0m\n"
     ]
    }
   ],
   "source": [
    "for df, location in zip(locations_dfs, locations):\n",
    "    logger.info(f\"Location: {location.country} {location.name}\")\n",
    "    logger.info(f\"Description: \\n{df.describe()}\")"
   ]
  },
  {
   "cell_type": "code",
   "execution_count": null,
   "metadata": {},
   "outputs": [
    {
     "name": "stdout",
     "output_type": "stream",
     "text": [
      "2025-04-24 05:03:19 - __main__ - INFO - \u001b[34mLocation: Costa Rica NASA GSFC Rutgers Calib. N13\u001b[0m\n",
      "2025-04-24 05:03:19 - __main__ - INFO - \u001b[34mParameters measured in location: \n",
      "  parameter_name parameter_units\n",
      "0           pm25           µg/m³\u001b[0m\n",
      "2025-04-24 05:03:19 - __main__ - INFO - \u001b[34mLocation: Spain Escaldes-Engordany\u001b[0m\n",
      "2025-04-24 05:03:19 - __main__ - INFO - \u001b[34mParameters measured in location: \n",
      "     parameter_name parameter_units\n",
      "0                co           µg/m³\n",
      "2331             no           µg/m³\n",
      "2657            no2           µg/m³\n",
      "5230             o3           µg/m³\u001b[0m\n"
     ]
    }
   ],
   "source": [
    "for df, location in zip(locations_dfs, locations):\n",
    "    logger.info(f\"Location: {location.country} {location.name}\")\n",
    "    logger.info(\n",
    "        f\"Parameters measured in location: \\n{df[['parameter_name', 'parameter_units']].drop_duplicates()}\"\n",
    "    )"
   ]
  },
  {
   "cell_type": "markdown",
   "metadata": {},
   "source": [
    "### Análisis univariable"
   ]
  },
  {
   "cell_type": "code",
   "execution_count": null,
   "metadata": {},
   "outputs": [
    {
     "data": {
      "image/png": "[encoded data removed]",
      "text/plain": [
       "<Figure size 800x500 with 2 Axes>"
      ]
     },
     "metadata": {},
     "output_type": "display_data"
    }
   ],
   "source": [
    "plt.figure(figsize=(4 * len(locations_dfs), 5))\n",
    "\n",
    "for i, df in enumerate(locations_dfs):\n",
    "    plt.subplot(1, len(locations_dfs), i + 1)\n",
    "    plt.title(f\"Location: {locations[i].country} {locations[i].name}\")\n",
    "    plt.xlabel(\"Parameter\")\n",
    "    plt.ylabel(\"Value\")\n",
    "    plt.xticks(rotation=90)\n",
    "    sns.boxplot(x=\"parameter_name\", y=\"value\", data=df)\n",
    "\n",
    "plt.tight_layout()\n",
    "plt.show()"
   ]
  },
  {
   "cell_type": "code",
   "execution_count": null,
   "metadata": {},
   "outputs": [
    {
     "data": {
      "image/png": "[encoded data removed]",
      "text/plain": [
       "<Figure size 400x3500 with 5 Axes>"
      ]
     },
     "metadata": {},
     "output_type": "display_data"
    }
   ],
   "source": [
    "all_dfs = pd.concat(locations_dfs, ignore_index=True)\n",
    "different_parameters = all_dfs[\"parameter_name\"].unique()\n",
    "\n",
    "plt.figure(figsize=(4, 5 * 7))\n",
    "\n",
    "for i, parameter in enumerate(different_parameters):\n",
    "    plt.subplot(7, 1, i + 1)\n",
    "    plt.title(f\"{parameter} per location\")\n",
    "    plt.xlabel(\"Location\")\n",
    "    plt.ylabel(\"Value\")\n",
    "    plt.xticks(rotation=45)\n",
    "    sns.boxplot(\n",
    "        x=\"location_name\",\n",
    "        y=\"value\",\n",
    "        data=all_dfs[all_dfs[\"parameter_name\"] == parameter],\n",
    "    )\n",
    "\n",
    "plt.tight_layout()\n",
    "plt.show()"
   ]
  },
  {
   "cell_type": "markdown",
   "metadata": {},
   "source": [
    "\n",
    "# 4. Análisis y comparación:\n",
    "\n",
    "Se debe realizar un análisis EDA que incluya análisis univariable y multivariable.\n",
    "\n",
    "Analizar las tendencias de los indicadores para las diferentes ciudades y hacer comparaciones entre diferentes países y ciudades.\n",
    "\n",
    "Incluir posibles correlaciones entre las variables y parámetros de calidad del aire de cada país/ciudad.\n",
    "\n",
    "Utilizar diferentes tipos de visualizaciones relevantes para el análisis.\n"
   ]
  },
  {
   "cell_type": "markdown",
   "metadata": {},
   "source": [
    "### Descripción inicial de los datos\n",
    "\n",
    "Podemos analizar los datos inicialmente con las funciones que ofrecen los pandas DF."
   ]
  },
  {
   "cell_type": "code",
   "execution_count": null,
   "metadata": {},
   "outputs": [],
   "source": [
    "locations_dfs = [pd.read_csv(f\"{location.file_path}.csv\") for location in locations]"
   ]
  },
  {
   "cell_type": "markdown",
   "metadata": {},
   "source": [
    "\n",
    "# 5. Conclusiones y Recomendaciones:\n",
    "\n",
    "Extraer conclusiones sobre la evolución de la calidad del aire en Costa Rica y las ciudades seleccionadas, explicando cómo los datos sustentan estas conclusiones.\n",
    "\n",
    "Buscar información sobre las políticas ambientales y regulaciones en estas ciudades y mostrar cómo los datos reflejan el efecto de estas políticas."
   ]
  },
  {
   "cell_type": "code",
   "execution_count": null,
   "metadata": {
    "id": "KSQI1hom40h-"
   },
   "outputs": [],
   "source": []
  }
 ],
 "metadata": {
  "colab": {
   "authorship_tag": "ABX9TyNxGvRAG9aLOhVckcngOJm0",
   "include_colab_link": true,
   "provenance": []
  },
  "kernelspec": {
   "display_name": ".venv",
   "language": "python",
   "name": "python3"
  },
  "language_info": {
   "codemirror_mode": {
    "name": "ipython",
    "version": 3
   },
   "file_extension": ".py",
   "mimetype": "text/x-python",
   "name": "python",
   "nbconvert_exporter": "python",
   "pygments_lexer": "ipython3",
   "version": "3.12.1"
  }
 },
 "nbformat": 4,
 "nbformat_minor": 0
}
