{
 "cells": [
  {
   "cell_type": "markdown",
   "metadata": {
    "colab_type": "text",
    "id": "view-in-github"
   },
   "source": [
    "<a href=\"https://colab.research.google.com/github/andonyns/air-quality/blob/main/main.ipynb\" target=\"_parent\"><img src=\"https://colab.research.google.com/assets/colab-badge.svg\" alt=\"Open In Colab\"/></a>\n",
    "\n",
    "# Laboratorio 01\n",
    "\n",
    "## Grupo 04\n",
    "- Jorge Ignacio Chavarría Herrera - B82073\n",
    "- Antonio Badilla-Olivas - B80874\n",
    "- Enrique Guillermo Vílchez Lizano - C18477\n",
    "- Andony Nuñez Solano - B04539\n",
    "\n",
    "## Objetivos\n",
    "\n",
    "1. Selección y recolección de parámetros y ciudades.\n",
    "2. Limpiar y transformar los datos para comparaciones.\n",
    "3. Análisis univariable y multivariable. Analizar las tendencias de los indicadores y hacer comparaciones. Incluir posibles correlaciones entre variables.\n",
    "4. Conclusiones y recomendaciones según las políticas ambientales de cada país."
   ]
  },
  {
   "cell_type": "markdown",
   "metadata": {},
   "source": [
    "# Relevant concepts\n",
    "These are the variables that [OpenAQ](https://openaq.org/) offers to measure air pollution. The definitions were taken from [Clean Air Act](https://www.epa.gov/criteria-air-pollutants/information-pollutant):\n",
    "\n",
    "1. PM (Particular Matter): These particles come in many sizes and shapes and can be made up of hundreds of different chemicals. Some are emitted directly from a source, such as construction sites, unpaved roads, fields, smokestacks or fires. Most particles form in the atmosphere as a result of complex reactions of chemicals such as sulfur dioxide and nitrogen oxides, which are pollutants emitted from power plants, industries and automobiles.\n",
    "\n",
    "  - PM₂.₅ (Particulate Matter 2.5 micrometers or smaller):\n",
    "fine inhalable particles, with diameters that are generally 2.5 micrometers and smaller\n",
    "\n",
    "  - PM₁₀ (Particulate Matter 10 micrometers or smaller):\n",
    "inhalable particles, with diameters that are generally 10 micrometers and smaller\n",
    "\n",
    "2.\tO₃ (Ozone):\n",
    "tropospheric, or ground level ozone, is not emitted directly into the air, but is created by chemical reactions between oxides of nitrogen (NOx) and volatile organic compounds (VOC). This happens when pollutants emitted by cars, power plants, industrial boilers, refineries, chemical plants, and other sources chemically react in the presence of sunlight.\n",
    "\n",
    "3.\tNO₂ (Nitrogen Dioxide):\n",
    "Nitrogen Dioxide (NO2) is one of a group of highly reactive gases known as oxides of nitrogen or nitrogen oxides (NOx). Other nitrogen oxides include nitrous acid and nitric acid. NO2 is used as the indicator for the larger group of nitrogen oxides. NO2 primarily gets in the air from the burning of fuel. NO2 forms from emissions from cars, trucks and buses, power plants, and off-road equipment.\n",
    "\n",
    "4.\tSO₂ (Sulfur Dioxide):\n",
    "SO2 is the component of greatest concern and is used as the indicator for the larger group of gaseous sulfur oxides (SOx).  Other gaseous SOx (such as SO3) are found in the atmosphere at concentrations much lower than SO2. The largest source of SO2 in the atmosphere is the burning of fossil fuels by power plants and other industrial facilities. Smaller sources of SO2 emissions include: industrial processes such as extracting metal from ore; natural sources such as volcanoes; and locomotives, ships and other vehicles and heavy equipment that burn fuel with a high sulfur content.\n",
    "\n",
    "5.\tCO (Carbon Monoxide):\n",
    "CO is a colorless, odorless gas that can be harmful when inhaled in large amounts. CO is released when something is burned. The greatest sources of CO to outdoor air are cars, trucks and other vehicles or machinery that burn fossil fuels. A variety of items in your home such as unvented kerosene and gas space heaters, leaking chimneys and furnaces, and gas stoves also release CO and can affect air quality indoors."
   ]
  },
  {
   "cell_type": "code",
   "execution_count": 2,
   "metadata": {},
   "outputs": [
    {
     "name": "stdout",
     "output_type": "stream",
     "text": [
      "Collecting dotenv\n",
      "  Downloading dotenv-0.9.9-py2.py3-none-any.whl.metadata (279 bytes)\n",
      "Collecting python-dotenv (from dotenv)\n",
      "  Downloading python_dotenv-1.1.0-py3-none-any.whl.metadata (24 kB)\n",
      "Downloading dotenv-0.9.9-py2.py3-none-any.whl (1.9 kB)\n",
      "Downloading python_dotenv-1.1.0-py3-none-any.whl (20 kB)\n",
      "Installing collected packages: python-dotenv, dotenv\n",
      "Successfully installed dotenv-0.9.9 python-dotenv-1.1.0\n",
      "Note: you may need to restart the kernel to use updated packages.\n"
     ]
    }
   ],
   "source": [
    "%pip install dotenv"
   ]
  },
  {
   "cell_type": "code",
   "execution_count": null,
   "metadata": {},
   "outputs": [
    {
     "data": {
      "text/plain": [
       "True"
      ]
     },
     "execution_count": 37,
     "metadata": {},
     "output_type": "execute_result"
    }
   ],
   "source": [
    "# For API requests\n",
    "import requests\n",
    "from urllib.parse import urljoin\n",
    "\n",
    "# For env\n",
    "import os\n",
    "from dotenv import load_dotenv\n",
    "\n",
    "# For data manipulation\n",
    "from pprint import pprint\n",
    "\n",
    "load_dotenv()"
   ]
  },
  {
   "cell_type": "code",
   "execution_count": 38,
   "metadata": {},
   "outputs": [],
   "source": [
    "BASE_API_URL = \"https://api.openaq.org/v3/\"\n",
    "\n",
    "HEADERS = {\"X-API-Key\": os.getenv(\"API_KEY\")}\n",
    "\n",
    "LOCATIONS_ENDPOINT = urljoin(BASE_API_URL, \"locations/{location_id}\")\n",
    "MEASUREMENTS_ENDPOINT = urljoin(BASE_API_URL, \"sensors/{sensor_id}/measurements\")"
   ]
  },
  {
   "cell_type": "code",
   "execution_count": 39,
   "metadata": {},
   "outputs": [],
   "source": [
    "def fetch_data(\n",
    "    base_url: str,\n",
    "    headers: dict[str, str] | None = None,\n",
    "    parameters: dict[str, any] | None = None,\n",
    "    query_parameters: dict[str, any] | None = None,\n",
    "    verbose: bool = False\n",
    "):\n",
    "    \"\"\"\n",
    "    Fetch data from the OpenAQ API.\n",
    "    :param base_url: The base URL for the API endpoint.\n",
    "    :param headers: Optional headers to include in the request.\n",
    "    :param parameters: Optional parameters to format the URL.\n",
    "    :param query_parameters: Optional query parameters to include in the request.\n",
    "    :param verbose: If True, print the response headers.\n",
    "    :return: The JSON response from the API.\n",
    "    \"\"\"\n",
    "\n",
    "    \n",
    "    if parameters is not None:\n",
    "        base_url = base_url.format(**parameters)\n",
    "\n",
    "    if query_parameters is not None:\n",
    "        base_url = urljoin(base_url, \"?\" + \"&\".join(f\"{k}={v}\" for k, v in query_parameters.items()))\n",
    "\n",
    "    if headers is not None:\n",
    "        response = requests.get(\n",
    "            url=base_url,\n",
    "            headers=headers,\n",
    "        )\n",
    "    else:\n",
    "        response = requests.get(\n",
    "            url=base_url,\n",
    "        )\n",
    "\n",
    "    if response.status_code != 200:\n",
    "        raise Exception(\n",
    "            f\"Request failed with status: {response.status_code}. Reason: {response.text}\"\n",
    "        )\n",
    "    if verbose:\n",
    "        pprint(response.headers)\n",
    "    return response.json()"
   ]
  },
  {
   "cell_type": "code",
   "execution_count": 40,
   "metadata": {},
   "outputs": [
    {
     "name": "stdout",
     "output_type": "stream",
     "text": [
      "{'meta': {'found': 1,\n",
      "          'limit': 100,\n",
      "          'name': 'openaq-api',\n",
      "          'page': 1,\n",
      "          'website': '/'},\n",
      " 'results': [{'bounds': [-84.0417, 9.938, -84.0417, 9.938],\n",
      "              'coordinates': {'latitude': 9.938, 'longitude': -84.0417},\n",
      "              'country': {'code': 'CR', 'id': 29, 'name': 'Costa Rica'},\n",
      "              'datetimeFirst': {'local': '2024-09-19T14:01:34-06:00',\n",
      "                                'utc': '2024-09-19T20:01:34Z'},\n",
      "              'datetimeLast': {'local': '2025-04-19T18:55:30-06:00',\n",
      "                               'utc': '2025-04-20T00:55:30Z'},\n",
      "              'distance': None,\n",
      "              'id': 3070644,\n",
      "              'instruments': [{'id': 4, 'name': 'Clarity Sensor'}],\n",
      "              'isMobile': False,\n",
      "              'isMonitor': False,\n",
      "              'licenses': [{'attribution': {'name': 'Clarity', 'url': None},\n",
      "                            'dateFrom': '2021-10-20',\n",
      "                            'dateTo': None,\n",
      "                            'id': 38,\n",
      "                            'name': 'CC0 1.0'}],\n",
      "              'locality': None,\n",
      "              'name': 'NASA GSFC Rutgers Calib. N13',\n",
      "              'owner': {'id': 9, 'name': 'Clarity'},\n",
      "              'provider': {'id': 166, 'name': 'Clarity'},\n",
      "              'sensors': [{'id': 10669679,\n",
      "                           'name': 'pm25 µg/m³',\n",
      "                           'parameter': {'displayName': 'PM2.5',\n",
      "                                         'id': 2,\n",
      "                                         'name': 'pm25',\n",
      "                                         'units': 'µg/m³'}}],\n",
      "              'timezone': 'America/Costa_Rica'}]}\n"
     ]
    }
   ],
   "source": [
    "# Costa Rica example\n",
    "cr_location_id = 3070644\n",
    "\n",
    "cr_location_data = fetch_data(\n",
    "    base_url=LOCATIONS_ENDPOINT,\n",
    "    headers=HEADERS,\n",
    "    parameters={\"location_id\": cr_location_id},\n",
    ")\n",
    "pprint(cr_location_data)"
   ]
  },
  {
   "cell_type": "code",
   "execution_count": null,
   "metadata": {},
   "outputs": [],
   "source": [
    "# Get the first sensor\n",
    "sensor = cr_location_data[\"results\"][0][\"sensors\"][0]\n",
    "not_finished = True\n",
    "query_params = {\"limit\": 1000, \"page\": 1}\n",
    "\n",
    "while not_finished: \n",
    "    sensor_id = sensor[\"id\"]\n",
    "    sensor_data = fetch_data(\n",
    "        base_url=MEASUREMENTS_ENDPOINT,\n",
    "        headers=HEADERS,\n",
    "        parameters={\"sensor_id\": sensor_id},\n",
    "        query_parameters=query_params,\n",
    "    )\n",
    "    if len(sensor_data[\"results\"]) < 1000:\n",
    "        print(f\"last page: {sensor_data[\"meta\"][\"page\"]}\")\n",
    "        not_finished = False\n",
    "\n",
    "    else:\n",
    "        query_params[\"page\"] += 1"
   ]
  },
  {
   "cell_type": "markdown",
   "metadata": {},
   "source": [
    "\n",
    "# 2. Tareas de limpieza y transformación:\n",
    "\n",
    "Se deben realizar las tareas de limpieza y transformación necesarias para poder hacer un comparativo de la evolución de los diferentes indicadores de la calidad del aire en Costa Rica y las otras ciudades.\n"
   ]
  },
  {
   "cell_type": "code",
   "execution_count": null,
   "metadata": {},
   "outputs": [],
   "source": []
  },
  {
   "cell_type": "markdown",
   "metadata": {},
   "source": [
    "\n",
    "# 3. Implementación en Google Colab:\n",
    "\n",
    "Realizar la implementación en Google Colab. Si existen problemas de desempeño, se puede optar por otro entorno, lo cual debe ser anotado en la documentación del notebook así como en la presentación.\n"
   ]
  },
  {
   "cell_type": "code",
   "execution_count": null,
   "metadata": {},
   "outputs": [],
   "source": []
  },
  {
   "cell_type": "markdown",
   "metadata": {},
   "source": [
    "\n",
    "# 4. Análisis y comparación:\n",
    "\n",
    "Se debe realizar un análisis EDA que incluya análisis univariable y multivariable.\n",
    "\n",
    "Analizar las tendencias de los indicadores para las diferentes ciudades y hacer comparaciones entre diferentes países y ciudades.\n",
    "\n",
    "Incluir posibles correlaciones entre las variables y parámetros de calidad del aire de cada país/ciudad.\n",
    "\n",
    "Utilizar diferentes tipos de visualizaciones relevantes para el análisis.\n"
   ]
  },
  {
   "cell_type": "code",
   "execution_count": null,
   "metadata": {},
   "outputs": [],
   "source": []
  },
  {
   "cell_type": "markdown",
   "metadata": {},
   "source": [
    "\n",
    "# 5. Conclusiones y Recomendaciones:\n",
    "\n",
    "Extraer conclusiones sobre la evolución de la calidad del aire en Costa Rica y las ciudades seleccionadas, explicando cómo los datos sustentan estas conclusiones.\n",
    "\n",
    "Buscar información sobre las políticas ambientales y regulaciones en estas ciudades y mostrar cómo los datos reflejan el efecto de estas políticas."
   ]
  },
  {
   "cell_type": "code",
   "execution_count": null,
   "metadata": {
    "id": "KSQI1hom40h-"
   },
   "outputs": [],
   "source": []
  }
 ],
 "metadata": {
  "colab": {
   "authorship_tag": "ABX9TyNxGvRAG9aLOhVckcngOJm0",
   "include_colab_link": true,
   "provenance": []
  },
  "kernelspec": {
   "display_name": "Python 3",
   "language": "python",
   "name": "python3"
  },
  "language_info": {
   "codemirror_mode": {
    "name": "ipython",
    "version": 3
   },
   "file_extension": ".py",
   "mimetype": "text/x-python",
   "name": "python",
   "nbconvert_exporter": "python",
   "pygments_lexer": "ipython3",
   "version": "3.12.1"
  }
 },
 "nbformat": 4,
 "nbformat_minor": 0
}
